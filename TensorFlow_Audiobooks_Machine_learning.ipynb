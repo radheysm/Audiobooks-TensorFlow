{
 "cells": [
  {
   "cell_type": "markdown",
   "metadata": {},
   "source": [
    "# Parctical example. Audiobooks"
   ]
  },
  {
   "cell_type": "markdown",
   "metadata": {},
   "source": [
    "##### Problem"
   ]
  },
  {
   "cell_type": "raw",
   "metadata": {},
   "source": [
    "You are given data from an audiobook app.logically, it relates only to the audio versions of books.Each customer in the database has made a purchase at least once, that's why he/she is in the database. We want to create a machine learning algorithm based on our available data that can predict if a customer will buy again from the audiobook company.\n",
    "\n",
    "The main idea is that if a customer has a low probability of coming back, there is no reason to spend any money on advertizing to him/her. If we can focus our efforts only on customers that are likely to convert again, we can make great savings, Moreover, this model can identify the most important metrics for a customer to come back again. Identify new customers creates value and growth opportunities.\n",
    "\n",
    "You have a .csv summarizing the data. There are serveral variables:Customer ID, Book length in mins_Avg (Average of all purchaes), Book length in minutes_sum(sum of all purchase) Price Paid_avg(Average of all purcahes), Price paid_sum(sum of all purchaes), REview(a boolean variable), REview(out of 10) Total minutes listend, Completion (from 0 to 1) Support requests(number), and LAst visited minus purchase data ((in days)\n",
    "\n",
    "So these are the inputs(excluding customerID, as it is completely arbitary. It's more like a name, than a number)\n",
    "\n",
    "The targets are a boolean variable (so 0 or 1). We are taking a period of 2 years in our inputs, and the next 6 months as targets. So, in face, we are predicting if based on the last 2 years of activiy and engaement a customer will convert in the next 6 months, 6 months sound like a reasonable time. If they don't convert after 6 months, chances are they've gone to a competitor or didn't like the audiobook way fo digesting information.\n",
    "\n",
    "That task is simple: create a machine learning algorithm, which is able to predict if a customer will buy again.\n",
    "\n",
    "This is a classification problem with two classes. won't buy and will buy, represented by 0s or 1s.\n",
    "\n",
    "Good luck!"
   ]
  },
  {
   "cell_type": "markdown",
   "metadata": {},
   "source": [
    "# Creating methods that will batch the data"
   ]
  },
  {
   "cell_type": "raw",
   "metadata": {},
   "source": [
    "Whenever you want to batch the data you need to have appropriate methods. There are some batching methods intergrated in TensorFlow and sklearn but some problems may need specific coding.\n",
    "\n",
    "Here we show how there methods look like. YOu can use them for any machine learning framework you need(directly or after little fine-tuning)"
   ]
  },
  {
   "cell_type": "code",
   "execution_count": 102,
   "metadata": {},
   "outputs": [],
   "source": [
    "import numpy as np\n",
    "class Audiobooks_Data_Reader():\n",
    "    #Dataset is a mandatory argument. batch_size is not, and defaults to None. \n",
    "    def __init__(self, dataset, batch_size = None):\n",
    "        \n",
    "        # if called with 'train' and '5', then it will load Audiobooks_data_train.npz with a batch_size of 5.\n",
    "        npz = np.load('Audiobooks_data_{0}.npz'.format(dataset))\n",
    "        \n",
    "        # Two variables for inputs and targets\n",
    "        self.inputs, self.targets = npz['inputs'].astype(np.float), npz['targets'].astype(np.int)\n",
    "        \n",
    "        # Set the batch size to the full input size if not passed (for validation and test)\n",
    "        if batch_size is None:\n",
    "            self.batch_size = self.inputs.shape[0]\n",
    "        else:\n",
    "            self.batch_size = batch_size\n",
    "        \n",
    "        # Two forward slashes rounds the answer down to the nearest whole number\n",
    "        self.curr_batch = 0\n",
    "        self.batch_count = self.inputs.shape[0] // self.batch_size\n",
    "        \n",
    "    #Method that loads the next batch\n",
    "    def __next__(self):\n",
    "        \n",
    "        # Stop if we've exhausted the dataset\n",
    "        if self.curr_batch >= self.batch_count:\n",
    "            self.curr_batch = 0\n",
    "            raise StopIteration()\n",
    "        \n",
    "        # Slice the dataset into batches - the next function loads them one after another\n",
    "        batch_slice = slice(self.curr_batch * self.batch_size, (self.curr_batch + 1) * self.batch_size)\n",
    "        inputs_batch = self.inputs[batch_slice]\n",
    "        targets_batch = self.targets[batch_slice]\n",
    "        self.curr_batch += 1\n",
    "        \n",
    "        # one hot encode the targets - in this case they are zeros and ones anyway, but here's the code\n",
    "        classes_num = 2\n",
    "#         j = np.arange(targets_batch.shape[0], dtype= np.int)\n",
    "        targets_one_hot = np.zeros((targets_batch.shape[0], classes_num))\n",
    "        targets_one_hot[100:10] = 1\n",
    "       # targets_one_hot[range(targets_batch.shape[0]), targets_batch] = 1\n",
    "        \n",
    "        return inputs_batch, targets_one_hot\n",
    "    \n",
    "    def __iter__(self):\n",
    "        return self"
   ]
  },
  {
   "cell_type": "markdown",
   "metadata": {},
   "source": [
    "\n",
    "# Creating the Machine Learning Algorithm\n"
   ]
  },
  {
   "cell_type": "markdown",
   "metadata": {},
   "source": [
    "### import the relevant libraries ."
   ]
  },
  {
   "cell_type": "code",
   "execution_count": 103,
   "metadata": {},
   "outputs": [],
   "source": [
    "import tensorflow.compat.v1 as tf\n",
    "tf.disable_v2_behavior()\n",
    "import tensorflow.compat.v2 as tff\n",
    "from datetime import datetime as dt"
   ]
  },
  {
   "cell_type": "code",
   "execution_count": 104,
   "metadata": {},
   "outputs": [
    {
     "name": "stderr",
     "output_type": "stream",
     "text": [
      "/home/radhey/anaconda3/lib/python3.7/site-packages/tensorflow_core/python/client/session.py:1752: UserWarning: An interactive session is already active. This can cause out-of-memory errors in some cases. You must explicitly call `InteractiveSession.close()` to release resources held by the other session(s).\n",
      "  warnings.warn('An interactive session is already active. This can '\n"
     ]
    },
    {
     "name": "stdout",
     "output_type": "stream",
     "text": [
      "Epoch 1. Training loss: 0.000. Validation loss: 0.000. Validation accuracy: 99.78%\n",
      "Epoch 2. Training loss: 0.000. Validation loss: 0.000. Validation accuracy: 99.55%\n",
      "Epoch 3. Training loss: 0.000. Validation loss: 0.000. Validation accuracy: 98.88%\n",
      "Epoch 4. Training loss: 0.000. Validation loss: 0.000. Validation accuracy: 98.21%\n",
      "Epoch 5. Training loss: 0.000. Validation loss: 0.000. Validation accuracy: 97.76%\n",
      "Epoch 6. Training loss: 0.000. Validation loss: 0.000. Validation accuracy: 96.64%\n",
      "Epoch 7. Training loss: 0.000. Validation loss: 0.000. Validation accuracy: 95.97%\n",
      "Epoch 8. Training loss: 0.000. Validation loss: 0.000. Validation accuracy: 95.75%\n",
      "Epoch 9. Training loss: 0.000. Validation loss: 0.000. Validation accuracy: 94.85%\n",
      "Epoch 10. Training loss: 0.000. Validation loss: 0.000. Validation accuracy: 93.06%\n",
      "Epoch 11. Training loss: 0.000. Validation loss: 0.000. Validation accuracy: 91.28%\n",
      "Epoch 12. Training loss: 0.000. Validation loss: 0.000. Validation accuracy: 89.04%\n",
      "Epoch 13. Training loss: 0.000. Validation loss: 0.000. Validation accuracy: 85.91%\n",
      "Epoch 14. Training loss: 0.000. Validation loss: 0.000. Validation accuracy: 84.56%\n",
      "Epoch 15. Training loss: 0.000. Validation loss: 0.000. Validation accuracy: 84.34%\n",
      "Epoch 16. Training loss: 0.000. Validation loss: 0.000. Validation accuracy: 85.01%\n",
      "Epoch 17. Training loss: 0.000. Validation loss: 0.000. Validation accuracy: 85.68%\n",
      "Epoch 18. Training loss: 0.000. Validation loss: 0.000. Validation accuracy: 85.23%\n",
      "Epoch 19. Training loss: 0.000. Validation loss: 0.000. Validation accuracy: 85.68%\n",
      "Epoch 20. Training loss: 0.000. Validation loss: 0.000. Validation accuracy: 85.46%\n",
      "Epoch 21. Training loss: 0.000. Validation loss: 0.000. Validation accuracy: 85.91%\n",
      "Epoch 22. Training loss: 0.000. Validation loss: 0.000. Validation accuracy: 86.35%\n",
      "Epoch 23. Training loss: 0.000. Validation loss: 0.000. Validation accuracy: 87.02%\n",
      "Epoch 24. Training loss: 0.000. Validation loss: 0.000. Validation accuracy: 87.47%\n",
      "Epoch 25. Training loss: 0.000. Validation loss: 0.000. Validation accuracy: 87.70%\n",
      "Epoch 26. Training loss: 0.000. Validation loss: 0.000. Validation accuracy: 88.14%\n",
      "Epoch 27. Training loss: 0.000. Validation loss: 0.000. Validation accuracy: 88.81%\n",
      "Epoch 28. Training loss: 0.000. Validation loss: 0.000. Validation accuracy: 89.04%\n",
      "Epoch 29. Training loss: 0.000. Validation loss: 0.000. Validation accuracy: 89.04%\n",
      "Epoch 30. Training loss: 0.000. Validation loss: 0.000. Validation accuracy: 89.93%\n",
      "Epoch 31. Training loss: 0.000. Validation loss: 0.000. Validation accuracy: 90.83%\n",
      "Epoch 32. Training loss: 0.000. Validation loss: 0.000. Validation accuracy: 91.50%\n",
      "Epoch 33. Training loss: 0.000. Validation loss: 0.000. Validation accuracy: 92.62%\n",
      "Epoch 34. Training loss: 0.000. Validation loss: 0.000. Validation accuracy: 94.63%\n",
      "Epoch 35. Training loss: 0.000. Validation loss: 0.000. Validation accuracy: 93.29%\n",
      "Epoch 36. Training loss: 0.000. Validation loss: 0.000. Validation accuracy: 93.96%\n",
      "Epoch 37. Training loss: 0.000. Validation loss: 0.000. Validation accuracy: 94.18%\n",
      "Epoch 38. Training loss: 0.000. Validation loss: 0.000. Validation accuracy: 94.63%\n",
      "Epoch 39. Training loss: 0.000. Validation loss: 0.000. Validation accuracy: 94.63%\n",
      "Epoch 40. Training loss: 0.000. Validation loss: 0.000. Validation accuracy: 94.63%\n",
      "Epoch 41. Training loss: 0.000. Validation loss: 0.000. Validation accuracy: 94.63%\n",
      "Epoch 42. Training loss: 0.000. Validation loss: 0.000. Validation accuracy: 94.85%\n",
      "Epoch 43. Training loss: 0.000. Validation loss: 0.000. Validation accuracy: 95.08%\n",
      "Epoch 44. Training loss: 0.000. Validation loss: 0.000. Validation accuracy: 95.53%\n",
      "Epoch 45. Training loss: 0.000. Validation loss: 0.000. Validation accuracy: 96.42%\n",
      "Epoch 46. Training loss: 0.000. Validation loss: 0.000. Validation accuracy: 96.64%\n",
      "Epoch 47. Training loss: 0.000. Validation loss: 0.000. Validation accuracy: 96.64%\n",
      "Epoch 48. Training loss: 0.000. Validation loss: 0.000. Validation accuracy: 96.64%\n",
      "Epoch 49. Training loss: 0.000. Validation loss: 0.000. Validation accuracy: 96.64%\n",
      "Epoch 50. Training loss: 0.000. Validation loss: 0.000. Validation accuracy: 96.20%\n",
      "Epoch 51. Training loss: 0.000. Validation loss: 0.000. Validation accuracy: 96.42%\n",
      "Epoch 52. Training loss: 0.000. Validation loss: 0.000. Validation accuracy: 96.87%\n",
      "Epoch 53. Training loss: 0.000. Validation loss: 0.000. Validation accuracy: 96.64%\n",
      "Epoch 54. Training loss: 0.000. Validation loss: 0.000. Validation accuracy: 96.87%\n",
      "Epoch 55. Training loss: 0.000. Validation loss: 0.000. Validation accuracy: 97.99%\n",
      "Epoch 56. Training loss: 0.000. Validation loss: 0.000. Validation accuracy: 98.66%\n",
      "Epoch 57. Training loss: 0.000. Validation loss: 0.000. Validation accuracy: 98.43%\n",
      "Epoch 58. Training loss: 0.000. Validation loss: 0.000. Validation accuracy: 98.21%\n",
      "Epoch 59. Training loss: 0.000. Validation loss: 0.000. Validation accuracy: 97.99%\n",
      "Epoch 60. Training loss: 0.000. Validation loss: 0.000. Validation accuracy: 97.99%\n",
      "Epoch 61. Training loss: 0.000. Validation loss: 0.000. Validation accuracy: 98.21%\n",
      "Epoch 62. Training loss: 0.000. Validation loss: 0.000. Validation accuracy: 98.21%\n",
      "Epoch 63. Training loss: 0.000. Validation loss: 0.000. Validation accuracy: 98.21%\n",
      "Epoch 64. Training loss: 0.000. Validation loss: 0.000. Validation accuracy: 98.66%\n",
      "Epoch 65. Training loss: 0.000. Validation loss: 0.000. Validation accuracy: 98.88%\n",
      "Epoch 66. Training loss: 0.000. Validation loss: 0.000. Validation accuracy: 99.11%\n",
      "Epoch 67. Training loss: 0.000. Validation loss: 0.000. Validation accuracy: 98.66%\n",
      "Epoch 68. Training loss: 0.000. Validation loss: 0.000. Validation accuracy: 98.66%\n",
      "Epoch 69. Training loss: 0.000. Validation loss: 0.000. Validation accuracy: 98.66%\n",
      "Epoch 70. Training loss: 0.000. Validation loss: 0.000. Validation accuracy: 98.88%\n",
      "Epoch 71. Training loss: 0.000. Validation loss: 0.000. Validation accuracy: 99.11%\n",
      "Epoch 72. Training loss: 0.000. Validation loss: 0.000. Validation accuracy: 98.88%\n",
      "Epoch 73. Training loss: 0.000. Validation loss: 0.000. Validation accuracy: 98.88%\n",
      "Epoch 74. Training loss: 0.000. Validation loss: 0.000. Validation accuracy: 98.66%\n",
      "Epoch 75. Training loss: 0.000. Validation loss: 0.000. Validation accuracy: 99.33%\n",
      "Epoch 76. Training loss: 0.000. Validation loss: 0.000. Validation accuracy: 99.78%\n",
      "Epoch 77. Training loss: 0.000. Validation loss: 0.000. Validation accuracy: 99.78%\n",
      "Epoch 78. Training loss: 0.000. Validation loss: 0.000. Validation accuracy: 99.78%\n",
      "Epoch 79. Training loss: 0.000. Validation loss: 0.000. Validation accuracy: 99.78%\n",
      "Epoch 80. Training loss: 0.000. Validation loss: 0.000. Validation accuracy: 99.78%\n",
      "Epoch 81. Training loss: 0.000. Validation loss: 0.000. Validation accuracy: 99.78%\n",
      "Epoch 82. Training loss: 0.000. Validation loss: 0.000. Validation accuracy: 99.78%\n",
      "Epoch 83. Training loss: 0.000. Validation loss: 0.000. Validation accuracy: 99.78%\n",
      "Epoch 84. Training loss: 0.000. Validation loss: 0.000. Validation accuracy: 99.78%\n",
      "Epoch 85. Training loss: 0.000. Validation loss: 0.000. Validation accuracy: 99.78%\n",
      "Epoch 86. Training loss: 0.000. Validation loss: 0.000. Validation accuracy: 99.78%\n",
      "Epoch 87. Training loss: 0.000. Validation loss: 0.000. Validation accuracy: 99.33%\n",
      "Epoch 88. Training loss: 0.000. Validation loss: 0.000. Validation accuracy: 99.33%\n",
      "Epoch 89. Training loss: 0.000. Validation loss: 0.000. Validation accuracy: 98.43%\n",
      "Epoch 90. Training loss: 0.000. Validation loss: 0.000. Validation accuracy: 98.43%\n",
      "Epoch 91. Training loss: 0.000. Validation loss: 0.000. Validation accuracy: 98.43%\n",
      "Epoch 92. Training loss: 0.000. Validation loss: 0.000. Validation accuracy: 98.43%\n",
      "Epoch 93. Training loss: 0.000. Validation loss: 0.000. Validation accuracy: 98.66%\n",
      "Epoch 94. Training loss: 0.000. Validation loss: 0.000. Validation accuracy: 98.66%\n",
      "Epoch 95. Training loss: 0.000. Validation loss: 0.000. Validation accuracy: 98.66%\n",
      "Epoch 96. Training loss: 0.000. Validation loss: 0.000. Validation accuracy: 98.66%\n",
      "Epoch 97. Training loss: 0.000. Validation loss: 0.000. Validation accuracy: 98.66%\n",
      "Epoch 98. Training loss: 0.000. Validation loss: 0.000. Validation accuracy: 98.66%\n",
      "Epoch 99. Training loss: 0.000. Validation loss: 0.000. Validation accuracy: 98.66%\n"
     ]
    },
    {
     "name": "stdout",
     "output_type": "stream",
     "text": [
      "Epoch 100. Training loss: 0.000. Validation loss: 0.000. Validation accuracy: 98.66%\n",
      "End of training! Training time(s): 2.70\n"
     ]
    }
   ],
   "source": [
    "input_size = 10\n",
    "output_size = 2\n",
    "hidden_layer_size = 50\n",
    "\n",
    "# Clear from memory the variables from previous runs. Variables = weights and biases\n",
    "tf.reset_default_graph()\n",
    "\n",
    "# placeholders for inputs and targets - what type and shape are they\n",
    "inputs = tf.placeholder(tf.float32, [None, input_size])\n",
    "targets = tf.placeholder(tf.int32, [None, output_size])\n",
    "\n",
    "# Shape of the weights matrix is: w = k * m, where k = number of input nodes, and m = number of hidden units\n",
    "# Shape of the biases matrix is: b = 1 * m\n",
    "weights_1 = tf.get_variable(\"weights_1\",[input_size, hidden_layer_size])\n",
    "biases_1 = tf.get_variable(\"biases_1\", [hidden_layer_size])\n",
    "\n",
    "# tf.nn is a module that contains neural network functions including activitation functions\n",
    "# this line applies an activitation function to the linear combination of the inputs, weights and biases\n",
    "outputs_1 = tf.nn.relu(tf.matmul(inputs, weights_1) + biases_1)\n",
    "\n",
    "# Define the second hidden layer\n",
    "weights_2 = tf.get_variable(\"weights_2\", [hidden_layer_size,hidden_layer_size])\n",
    "biases_2 = tf.get_variable(\"biases_2\", [hidden_layer_size])\n",
    "\n",
    "outputs_2 = tf.nn.relu(tf.matmul(outputs_1,weights_2) + biases_2)\n",
    "\n",
    "#Define the output layer\n",
    "weights_3 = tf.get_variable(\"weights_3\", [hidden_layer_size,output_size])\n",
    "biases_3 = tf.get_variable(\"biases_3\", [output_size])\n",
    "\n",
    "outputs = tf.matmul(outputs_2, weights_3) + biases_3\n",
    "\n",
    "#logits are the unscaled probabilities. Softmax will create scaled probabilities - a vector summing to 1.\n",
    "loss = tf.nn.softmax_cross_entropy_with_logits(logits = outputs, labels = targets)\n",
    "\n",
    "#Mean loss gives a big performance boost\n",
    "#reduce mean takes the mean of elements across a tensor\n",
    "mean_loss = tf.reduce_mean(loss)\n",
    "\n",
    "optimize = tf.train.AdamOptimizer(learning_rate = 0.0001).minimize(mean_loss)\n",
    "\n",
    "out_equals_target = tf.equal(tf.argmax(outputs,1), tf.argmax(targets,1))\n",
    "\n",
    "accuracy = tf.reduce_mean(tf.cast(out_equals_target, tf.float32))\n",
    "\n",
    "sess = tf.InteractiveSession()\n",
    "initializer = tf.global_variables_initializer()\n",
    "sess.run(initializer)\n",
    "\n",
    "#SGD batch size is 1. GD is # of samples. We want somewhere in between to get balance between speed and accuracy\n",
    "batch_size = 100\n",
    "max_epochs = 100\n",
    "prev_validation_loss = 9999999.\n",
    "\n",
    "train_data = Audiobooks_Data_Reader('train', batch_size)\n",
    "validation_data = Audiobooks_Data_Reader('validation')\n",
    "\n",
    "train_start_time = dt.now()\n",
    "\n",
    "for epoch_counter in range(max_epochs):\n",
    "    curr_epoch_loss = 0.\n",
    "    \n",
    "    for input_batch, target_batch in train_data:\n",
    "        _, batch_loss = sess.run([optimize, mean_loss],\n",
    "                                feed_dict={inputs:input_batch, targets:target_batch})\n",
    "        curr_epoch_loss += batch_loss\n",
    "        \n",
    "    curr_epoch_loss /= train_data.batch_count\n",
    "    \n",
    "    validation_loss = 0.\n",
    "    validation_accuracy = 0.\n",
    "    \n",
    "    for input_batch, target_batch in validation_data:\n",
    "        validation_loss, validation_accuracy = sess.run([mean_loss, accuracy],\n",
    "                                feed_dict={inputs:input_batch, targets:target_batch})\n",
    "\n",
    "    print('Epoch '+str(epoch_counter+1)+\n",
    "        '. Training loss: '+'{0:.3f}'.format(curr_epoch_loss)+\n",
    "        '. Validation loss: '+'{0:.3f}'.format(validation_loss)+\n",
    "        '. Validation accuracy: '+'{0:.2f}'.format(validation_accuracy * 100.)+'%'       \n",
    "         )\n",
    "    \n",
    "    #Early stopping - if validation loss starts to increase - to prevent overfitting\n",
    "    \n",
    "    if validation_loss > prev_validation_loss:\n",
    "        break\n",
    "        \n",
    "    prev_validation_loss = validation_loss\n",
    "\n",
    "train_end_time = dt.now()\n",
    "train_delta = train_end_time - train_start_time\n",
    "\n",
    "print('End of training! Training time(s): '+'{0:.2f}'.format(train_delta.total_seconds()))"
   ]
  },
  {
   "cell_type": "markdown",
   "metadata": {},
   "source": [
    "# Test the model"
   ]
  },
  {
   "cell_type": "code",
   "execution_count": 105,
   "metadata": {},
   "outputs": [
    {
     "name": "stdout",
     "output_type": "stream",
     "text": [
      "Test accuracy is: 97.54%\n"
     ]
    }
   ],
   "source": [
    "\n",
    "test_data = Audiobooks_Data_Reader('test')\n",
    "\n",
    "for input_batch, target_batch in test_data:\n",
    "    test_accuracy = sess.run([accuracy],\n",
    "                        feed_dict={inputs: input_batch, targets: target_batch })\n",
    "\n",
    "test_accuracy_percent = test_accuracy[0] * 100.\n",
    "\n",
    "print('Test accuracy is: '+'{0:.2f}'.format(test_accuracy_percent)+'%')"
   ]
  },
  {
   "cell_type": "raw",
   "metadata": {},
   "source": [
    "# So finally we get the highest accuaracy and its very good model for predication "
   ]
  },
  {
   "cell_type": "markdown",
   "metadata": {},
   "source": [
    "# Thank you"
   ]
  },
  {
   "cell_type": "code",
   "execution_count": null,
   "metadata": {},
   "outputs": [],
   "source": []
  }
 ],
 "metadata": {
  "kernelspec": {
   "display_name": "Python 3",
   "language": "python",
   "name": "python3"
  },
  "language_info": {
   "codemirror_mode": {
    "name": "ipython",
    "version": 3
   },
   "file_extension": ".py",
   "mimetype": "text/x-python",
   "name": "python",
   "nbconvert_exporter": "python",
   "pygments_lexer": "ipython3",
   "version": "3.7.6"
  }
 },
 "nbformat": 4,
 "nbformat_minor": 2
}
